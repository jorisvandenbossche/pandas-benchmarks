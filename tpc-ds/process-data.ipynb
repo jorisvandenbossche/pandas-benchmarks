{
 "cells": [
  {
   "cell_type": "code",
   "execution_count": 16,
   "metadata": {},
   "outputs": [],
   "source": [
    "import pandas as pd\n",
    "import pyarrow as pa\n",
    "from pyarrow import csv\n",
    "from pyarrow import feather"
   ]
  },
  {
   "cell_type": "code",
   "execution_count": 17,
   "metadata": {},
   "outputs": [],
   "source": [
    "with open(\"data/raw/tpcds.sql\") as f:\n",
    "    sql_file = f.read()"
   ]
  },
  {
   "cell_type": "code",
   "execution_count": 18,
   "metadata": {},
   "outputs": [],
   "source": [
    "# remove header\n",
    "sql_file = \"\\n\".join([line for line in sql_file.split(\"\\n\") if not line.startswith(\"--\")])"
   ]
  },
  {
   "cell_type": "code",
   "execution_count": 21,
   "metadata": {},
   "outputs": [],
   "source": [
    "import re\n",
    "\n",
    "def get_arrow_type(sql_type):\n",
    "    if sql_type == \"integer\":\n",
    "        return pa.int32()\n",
    "    elif sql_type == \"date\":\n",
    "        return pa.date32()\n",
    "    elif sql_type == \"time\":\n",
    "        # TODO parsing as time not yet supported\n",
    "        return pa.string()\n",
    "    elif \"varchar\" in sql_type:\n",
    "        return pa.string()\n",
    "    elif \"char\" in sql_type:\n",
    "        # match = re.search(\"char\\((.*)\\)\", sql_type)\n",
    "        # n = int(match.group(1))\n",
    "        # return pa.bianry(n)\n",
    "        return pa.string()\n",
    "    elif \"decimal\" in sql_type:\n",
    "        match = re.search(\"decimal\\((.*),(.*)\\)\", sql_type)\n",
    "        p = int(match.group(1))\n",
    "        s = int(match.group(2))\n",
    "        return pa.decimal128(p, s)\n",
    "    else:\n",
    "        raise ValueError(f\"Not supported data type: {sql_type}\")"
   ]
  },
  {
   "cell_type": "code",
   "execution_count": 34,
   "metadata": {},
   "outputs": [
    {
     "name": "stdout",
     "output_type": "stream",
     "text": [
      "Processing dbgen_version\n",
      "Processing customer_address\n",
      "Processing customer_demographics\n",
      "Processing date_dim\n",
      "Processing warehouse\n",
      "Processing ship_mode\n",
      "Processing time_dim\n",
      "Processing reason\n",
      "Processing income_band\n",
      "Processing item\n",
      "Processing store\n",
      "Processing call_center\n",
      "Processing customer\n",
      "Processing web_site\n",
      "Processing store_returns\n",
      "Processing household_demographics\n",
      "Processing web_page\n",
      "Processing promotion\n",
      "Processing catalog_page\n",
      "Processing inventory\n",
      "Processing catalog_returns\n",
      "Processing web_returns\n",
      "Processing web_sales\n",
      "Processing catalog_sales\n",
      "Processing store_sales\n"
     ]
    }
   ],
   "source": [
    "for sql in sql_file.split(\"\\n\\n\")[:-1]:\n",
    "    \n",
    "    lines = sql.split(\"\\n\")\n",
    "    table_name = lines[0].split()[2]\n",
    "    print(f\"Processing {table_name}\")\n",
    "    \n",
    "    fields = []\n",
    "\n",
    "    for line in lines[2:-1]:\n",
    "        if \"primary key\" in line:\n",
    "            continue\n",
    "        nullable = \"not null\" not in line\n",
    "        name, dtype = line.strip().split()[:2]\n",
    "        typ = get_arrow_type(dtype)\n",
    "        field = pa.field(name, typ, nullable=nullable)\n",
    "        fields.append(field)\n",
    "\n",
    "    schema = pa.schema(fields)\n",
    "    \n",
    "    table = csv.read_csv(\n",
    "        f\"data/raw/{table_name}.dat\",\n",
    "        read_options=csv.ReadOptions(column_names=schema.names + [\"dummy\"], encoding=\"latin-1\"),\n",
    "        parse_options=csv.ParseOptions(delimiter=\"|\"),\n",
    "        convert_options=csv.ConvertOptions(column_types=schema, include_columns=schema.names)\n",
    "    )\n",
    "    feather.write_feather(table, f\"data/{table_name}.feather\", compression=\"zstd\")\n"
   ]
  },
  {
   "cell_type": "code",
   "execution_count": null,
   "metadata": {},
   "outputs": [],
   "source": []
  }
 ],
 "metadata": {
  "kernelspec": {
   "display_name": "Python (arrow-dev)",
   "language": "python",
   "name": "arrow-dev"
  },
  "language_info": {
   "codemirror_mode": {
    "name": "ipython",
    "version": 3
   },
   "file_extension": ".py",
   "mimetype": "text/x-python",
   "name": "python",
   "nbconvert_exporter": "python",
   "pygments_lexer": "ipython3",
   "version": "3.8.6"
  }
 },
 "nbformat": 4,
 "nbformat_minor": 4
}
