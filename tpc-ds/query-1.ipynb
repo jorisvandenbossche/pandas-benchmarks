{
 "cells": [
  {
   "cell_type": "code",
   "execution_count": 1,
   "metadata": {},
   "outputs": [],
   "source": [
    "import pandas as pd\n",
    "import pyarrow as pa\n",
    "from pyarrow import feather"
   ]
  },
  {
   "cell_type": "markdown",
   "metadata": {},
   "source": [
    "## TPCx-BB query 1\n",
    "\n",
    "From https://github.com/rapidsai/gpu-bdb/blob/main/tpcx_bb/queries/q01/tpcx_bb_query_01.py"
   ]
  },
  {
   "cell_type": "code",
   "execution_count": 2,
   "metadata": {},
   "outputs": [],
   "source": [
    "q01_i_category_id_IN = [1, 2, 3]\n",
    "# -- sf1 -> 11 stores, 90k sales in 820k lines\n",
    "q01_ss_store_sk_IN = [10, 20, 33, 40, 50]\n",
    "q01_viewed_together_count = 50\n",
    "q01_limit = 100\n",
    "\n",
    "item_cols = [\"i_item_sk\", \"i_category_id\"]\n",
    "ss_cols = [\"ss_item_sk\", \"ss_store_sk\", \"ss_ticket_number\"]"
   ]
  },
  {
   "cell_type": "code",
   "execution_count": 3,
   "metadata": {},
   "outputs": [],
   "source": [
    "item_df = pd.read_feather(\"data/scale-10/item.feather\", columns=item_cols)\n",
    "ss_df = pd.read_feather(\"data/scale-10/store_sales.feather\", columns=ss_cols)"
   ]
  },
  {
   "cell_type": "code",
   "execution_count": 4,
   "metadata": {},
   "outputs": [
    {
     "data": {
      "text/html": [
       "<div>\n",
       "<style scoped>\n",
       "    .dataframe tbody tr th:only-of-type {\n",
       "        vertical-align: middle;\n",
       "    }\n",
       "\n",
       "    .dataframe tbody tr th {\n",
       "        vertical-align: top;\n",
       "    }\n",
       "\n",
       "    .dataframe thead th {\n",
       "        text-align: right;\n",
       "    }\n",
       "</style>\n",
       "<table border=\"1\" class=\"dataframe\">\n",
       "  <thead>\n",
       "    <tr style=\"text-align: right;\">\n",
       "      <th></th>\n",
       "      <th>i_item_sk</th>\n",
       "      <th>i_category_id</th>\n",
       "    </tr>\n",
       "  </thead>\n",
       "  <tbody>\n",
       "    <tr>\n",
       "      <th>0</th>\n",
       "      <td>1</td>\n",
       "      <td>5.0</td>\n",
       "    </tr>\n",
       "    <tr>\n",
       "      <th>1</th>\n",
       "      <td>2</td>\n",
       "      <td>1.0</td>\n",
       "    </tr>\n",
       "    <tr>\n",
       "      <th>2</th>\n",
       "      <td>3</td>\n",
       "      <td>7.0</td>\n",
       "    </tr>\n",
       "    <tr>\n",
       "      <th>3</th>\n",
       "      <td>4</td>\n",
       "      <td>3.0</td>\n",
       "    </tr>\n",
       "    <tr>\n",
       "      <th>4</th>\n",
       "      <td>5</td>\n",
       "      <td>2.0</td>\n",
       "    </tr>\n",
       "  </tbody>\n",
       "</table>\n",
       "</div>"
      ],
      "text/plain": [
       "   i_item_sk  i_category_id\n",
       "0          1            5.0\n",
       "1          2            1.0\n",
       "2          3            7.0\n",
       "3          4            3.0\n",
       "4          5            2.0"
      ]
     },
     "execution_count": 4,
     "metadata": {},
     "output_type": "execute_result"
    }
   ],
   "source": [
    "item_df.head()"
   ]
  },
  {
   "cell_type": "code",
   "execution_count": 5,
   "metadata": {},
   "outputs": [
    {
     "data": {
      "text/html": [
       "<div>\n",
       "<style scoped>\n",
       "    .dataframe tbody tr th:only-of-type {\n",
       "        vertical-align: middle;\n",
       "    }\n",
       "\n",
       "    .dataframe tbody tr th {\n",
       "        vertical-align: top;\n",
       "    }\n",
       "\n",
       "    .dataframe thead th {\n",
       "        text-align: right;\n",
       "    }\n",
       "</style>\n",
       "<table border=\"1\" class=\"dataframe\">\n",
       "  <thead>\n",
       "    <tr style=\"text-align: right;\">\n",
       "      <th></th>\n",
       "      <th>ss_item_sk</th>\n",
       "      <th>ss_store_sk</th>\n",
       "      <th>ss_ticket_number</th>\n",
       "    </tr>\n",
       "  </thead>\n",
       "  <tbody>\n",
       "    <tr>\n",
       "      <th>0</th>\n",
       "      <td>34435</td>\n",
       "      <td>40.0</td>\n",
       "      <td>1</td>\n",
       "    </tr>\n",
       "    <tr>\n",
       "      <th>1</th>\n",
       "      <td>18239</td>\n",
       "      <td>40.0</td>\n",
       "      <td>1</td>\n",
       "    </tr>\n",
       "    <tr>\n",
       "      <th>2</th>\n",
       "      <td>49325</td>\n",
       "      <td>40.0</td>\n",
       "      <td>1</td>\n",
       "    </tr>\n",
       "    <tr>\n",
       "      <th>3</th>\n",
       "      <td>57451</td>\n",
       "      <td>40.0</td>\n",
       "      <td>1</td>\n",
       "    </tr>\n",
       "    <tr>\n",
       "      <th>4</th>\n",
       "      <td>80011</td>\n",
       "      <td>40.0</td>\n",
       "      <td>1</td>\n",
       "    </tr>\n",
       "  </tbody>\n",
       "</table>\n",
       "</div>"
      ],
      "text/plain": [
       "   ss_item_sk  ss_store_sk  ss_ticket_number\n",
       "0       34435         40.0                 1\n",
       "1       18239         40.0                 1\n",
       "2       49325         40.0                 1\n",
       "3       57451         40.0                 1\n",
       "4       80011         40.0                 1"
      ]
     },
     "execution_count": 5,
     "metadata": {},
     "output_type": "execute_result"
    }
   ],
   "source": [
    "ss_df.head()"
   ]
  },
  {
   "cell_type": "code",
   "execution_count": 6,
   "metadata": {},
   "outputs": [
    {
     "data": {
      "text/plain": [
       "i_item_sk          int32\n",
       "i_category_id    float64\n",
       "dtype: object"
      ]
     },
     "execution_count": 6,
     "metadata": {},
     "output_type": "execute_result"
    }
   ],
   "source": [
    "item_df.dtypes"
   ]
  },
  {
   "cell_type": "code",
   "execution_count": 7,
   "metadata": {},
   "outputs": [
    {
     "data": {
      "text/plain": [
       "ss_item_sk            int32\n",
       "ss_store_sk         float64\n",
       "ss_ticket_number      int32\n",
       "dtype: object"
      ]
     },
     "execution_count": 7,
     "metadata": {},
     "output_type": "execute_result"
    }
   ],
   "source": [
    "ss_df.dtypes"
   ]
  },
  {
   "cell_type": "code",
   "execution_count": 8,
   "metadata": {},
   "outputs": [
    {
     "data": {
      "text/plain": [
       "28800991"
      ]
     },
     "execution_count": 8,
     "metadata": {},
     "output_type": "execute_result"
    }
   ],
   "source": [
    "len(ss_df)"
   ]
  },
  {
   "cell_type": "code",
   "execution_count": 9,
   "metadata": {},
   "outputs": [
    {
     "name": "stdout",
     "output_type": "stream",
     "text": [
      "CPU times: user 332 ms, sys: 284 ms, total: 616 ms\n",
      "Wall time: 622 ms\n"
     ]
    }
   ],
   "source": [
    "%%time \n",
    "# SELECT DISTINCT ss_item_sk,ss_ticket_number\n",
    "# FROM store_sales s, item i\n",
    "# -- Only products in certain categories sold in specific stores are considered,\n",
    "# WHERE s.ss_item_sk = i.i_item_sk\n",
    "# AND i.i_category_id IN ({q01_i_category_id_IN})\n",
    "# AND s.ss_store_sk IN ({q01_ss_store_sk_IN})\n",
    "\n",
    "f_ss_df = ss_df.loc[ss_df[\"ss_store_sk\"].isin(q01_ss_store_sk_IN)][\n",
    "    [\"ss_item_sk\", \"ss_ticket_number\"]\n",
    "].reset_index(drop=True)\n",
    "\n",
    "f_item_df = item_df.loc[item_df[\"i_category_id\"].isin(q01_i_category_id_IN)][\n",
    "    [\"i_item_sk\"]\n",
    "].reset_index(drop=True)\n",
    "\n",
    "ss_item_join = f_item_df.merge(\n",
    "    f_ss_df, left_on=[\"i_item_sk\"], right_on=[\"ss_item_sk\"]\n",
    ")\n",
    "ss_item_join = ss_item_join[[\"ss_item_sk\", \"ss_ticket_number\"]]"
   ]
  },
  {
   "cell_type": "code",
   "execution_count": 10,
   "metadata": {},
   "outputs": [
    {
     "data": {
      "text/html": [
       "<div>\n",
       "<style scoped>\n",
       "    .dataframe tbody tr th:only-of-type {\n",
       "        vertical-align: middle;\n",
       "    }\n",
       "\n",
       "    .dataframe tbody tr th {\n",
       "        vertical-align: top;\n",
       "    }\n",
       "\n",
       "    .dataframe thead th {\n",
       "        text-align: right;\n",
       "    }\n",
       "</style>\n",
       "<table border=\"1\" class=\"dataframe\">\n",
       "  <thead>\n",
       "    <tr style=\"text-align: right;\">\n",
       "      <th></th>\n",
       "      <th>ss_item_sk</th>\n",
       "      <th>ss_ticket_number</th>\n",
       "    </tr>\n",
       "  </thead>\n",
       "  <tbody>\n",
       "    <tr>\n",
       "      <th>0</th>\n",
       "      <td>2</td>\n",
       "      <td>46630</td>\n",
       "    </tr>\n",
       "    <tr>\n",
       "      <th>1</th>\n",
       "      <td>2</td>\n",
       "      <td>113987</td>\n",
       "    </tr>\n",
       "    <tr>\n",
       "      <th>2</th>\n",
       "      <td>2</td>\n",
       "      <td>224047</td>\n",
       "    </tr>\n",
       "    <tr>\n",
       "      <th>3</th>\n",
       "      <td>2</td>\n",
       "      <td>277952</td>\n",
       "    </tr>\n",
       "    <tr>\n",
       "      <th>4</th>\n",
       "      <td>2</td>\n",
       "      <td>314134</td>\n",
       "    </tr>\n",
       "    <tr>\n",
       "      <th>...</th>\n",
       "      <td>...</td>\n",
       "      <td>...</td>\n",
       "    </tr>\n",
       "    <tr>\n",
       "      <th>646524</th>\n",
       "      <td>102000</td>\n",
       "      <td>1272102</td>\n",
       "    </tr>\n",
       "    <tr>\n",
       "      <th>646525</th>\n",
       "      <td>102000</td>\n",
       "      <td>1417665</td>\n",
       "    </tr>\n",
       "    <tr>\n",
       "      <th>646526</th>\n",
       "      <td>102000</td>\n",
       "      <td>1654229</td>\n",
       "    </tr>\n",
       "    <tr>\n",
       "      <th>646527</th>\n",
       "      <td>102000</td>\n",
       "      <td>2102112</td>\n",
       "    </tr>\n",
       "    <tr>\n",
       "      <th>646528</th>\n",
       "      <td>102000</td>\n",
       "      <td>2200973</td>\n",
       "    </tr>\n",
       "  </tbody>\n",
       "</table>\n",
       "<p>646529 rows × 2 columns</p>\n",
       "</div>"
      ],
      "text/plain": [
       "        ss_item_sk  ss_ticket_number\n",
       "0                2             46630\n",
       "1                2            113987\n",
       "2                2            224047\n",
       "3                2            277952\n",
       "4                2            314134\n",
       "...            ...               ...\n",
       "646524      102000           1272102\n",
       "646525      102000           1417665\n",
       "646526      102000           1654229\n",
       "646527      102000           2102112\n",
       "646528      102000           2200973\n",
       "\n",
       "[646529 rows x 2 columns]"
      ]
     },
     "execution_count": 10,
     "metadata": {},
     "output_type": "execute_result"
    }
   ],
   "source": [
    "ss_item_join"
   ]
  },
  {
   "cell_type": "code",
   "execution_count": 11,
   "metadata": {},
   "outputs": [],
   "source": [
    "ss_item_join = ss_item_join.drop_duplicates()"
   ]
  },
  {
   "cell_type": "code",
   "execution_count": 12,
   "metadata": {},
   "outputs": [],
   "source": [
    "def get_pairs(\n",
    "    df,\n",
    "    col_name=\"ss_item_sk\",\n",
    "    merge_col=\"ss_ticket_number\",\n",
    "    pair_col=\"ss_item_sk\",\n",
    "    output_col_1=\"item_sk_1\",\n",
    "    output_col_2=\"item_sk_2\",\n",
    "):\n",
    "    pair_df = df.merge(df, on=merge_col, suffixes=[\"_t1\", \"_t2\"])\n",
    "    pair_df = pair_df[[f\"{pair_col}_t1\", f\"{pair_col}_t2\"]]\n",
    "    pair_df = pair_df[\n",
    "        pair_df[f\"{pair_col}_t1\"] < pair_df[f\"{pair_col}_t2\"]\n",
    "    ].reset_index(drop=True)\n",
    "    pair_df = pair_df.rename(\n",
    "        columns={f\"{pair_col}_t1\": output_col_1, f\"{pair_col}_t2\": output_col_2}\n",
    "    )\n",
    "    return pair_df\n"
   ]
  },
  {
   "cell_type": "code",
   "execution_count": 13,
   "metadata": {},
   "outputs": [],
   "source": [
    "### do pair inner join\n",
    "pair_df = get_pairs(ss_item_join)"
   ]
  },
  {
   "cell_type": "code",
   "execution_count": 14,
   "metadata": {},
   "outputs": [
    {
     "data": {
      "text/plain": [
       "item_sk_1    int32\n",
       "item_sk_2    int32\n",
       "dtype: object"
      ]
     },
     "execution_count": 14,
     "metadata": {},
     "output_type": "execute_result"
    }
   ],
   "source": [
    "pair_df.dtypes"
   ]
  },
  {
   "cell_type": "code",
   "execution_count": 15,
   "metadata": {},
   "outputs": [
    {
     "name": "stdout",
     "output_type": "stream",
     "text": [
      "CPU times: user 105 ms, sys: 5.31 ms, total: 110 ms\n",
      "Wall time: 108 ms\n"
     ]
    }
   ],
   "source": [
    "%%time\n",
    "# SELECT item_sk_1, item_sk_2, COUNT(*) AS cnt\n",
    "# FROM\n",
    "# (\n",
    "#    ...\n",
    "# )\n",
    "# GROUP BY item_sk_1, item_sk_2\n",
    "# -- 'frequently'\n",
    "# HAVING cnt > {q01_viewed_together_count}\n",
    "# ORDER BY cnt DESC, item_sk_1, item_sk_2\n",
    "\n",
    "grouped_df = (\n",
    "    pair_df.groupby([\"item_sk_1\", \"item_sk_2\"])\n",
    "    .size()\n",
    "    .reset_index()\n",
    "    .rename(columns={0: \"cnt\"})\n",
    ")\n",
    "grouped_df = grouped_df[grouped_df[\"cnt\"] > q01_viewed_together_count].reset_index(\n",
    "    drop=True\n",
    ")\n"
   ]
  },
  {
   "cell_type": "code",
   "execution_count": 16,
   "metadata": {},
   "outputs": [
    {
     "data": {
      "text/plain": [
       "item_sk_1    int64\n",
       "item_sk_2    int64\n",
       "cnt          int64\n",
       "dtype: object"
      ]
     },
     "execution_count": 16,
     "metadata": {},
     "output_type": "execute_result"
    }
   ],
   "source": [
    "grouped_df.dtypes"
   ]
  },
  {
   "cell_type": "code",
   "execution_count": 17,
   "metadata": {},
   "outputs": [],
   "source": [
    "grouped_df = grouped_df.sort_values(\n",
    "    by=[\"cnt\", \"item_sk_1\", \"item_sk_2\"], ascending=[False, True, True]\n",
    ")"
   ]
  },
  {
   "cell_type": "code",
   "execution_count": 18,
   "metadata": {},
   "outputs": [
    {
     "data": {
      "text/html": [
       "<div>\n",
       "<style scoped>\n",
       "    .dataframe tbody tr th:only-of-type {\n",
       "        vertical-align: middle;\n",
       "    }\n",
       "\n",
       "    .dataframe tbody tr th {\n",
       "        vertical-align: top;\n",
       "    }\n",
       "\n",
       "    .dataframe thead th {\n",
       "        text-align: right;\n",
       "    }\n",
       "</style>\n",
       "<table border=\"1\" class=\"dataframe\">\n",
       "  <thead>\n",
       "    <tr style=\"text-align: right;\">\n",
       "      <th></th>\n",
       "      <th>item_sk_1</th>\n",
       "      <th>item_sk_2</th>\n",
       "      <th>cnt</th>\n",
       "    </tr>\n",
       "  </thead>\n",
       "  <tbody>\n",
       "    <tr>\n",
       "      <th>7</th>\n",
       "      <td>49885</td>\n",
       "      <td>77827</td>\n",
       "      <td>57</td>\n",
       "    </tr>\n",
       "    <tr>\n",
       "      <th>2</th>\n",
       "      <td>25003</td>\n",
       "      <td>75205</td>\n",
       "      <td>54</td>\n",
       "    </tr>\n",
       "    <tr>\n",
       "      <th>1</th>\n",
       "      <td>17035</td>\n",
       "      <td>94801</td>\n",
       "      <td>52</td>\n",
       "    </tr>\n",
       "    <tr>\n",
       "      <th>8</th>\n",
       "      <td>57751</td>\n",
       "      <td>80629</td>\n",
       "      <td>52</td>\n",
       "    </tr>\n",
       "    <tr>\n",
       "      <th>0</th>\n",
       "      <td>8575</td>\n",
       "      <td>63991</td>\n",
       "      <td>51</td>\n",
       "    </tr>\n",
       "    <tr>\n",
       "      <th>3</th>\n",
       "      <td>30337</td>\n",
       "      <td>77719</td>\n",
       "      <td>51</td>\n",
       "    </tr>\n",
       "    <tr>\n",
       "      <th>4</th>\n",
       "      <td>34351</td>\n",
       "      <td>63991</td>\n",
       "      <td>51</td>\n",
       "    </tr>\n",
       "    <tr>\n",
       "      <th>5</th>\n",
       "      <td>42751</td>\n",
       "      <td>61627</td>\n",
       "      <td>51</td>\n",
       "    </tr>\n",
       "    <tr>\n",
       "      <th>6</th>\n",
       "      <td>47911</td>\n",
       "      <td>93625</td>\n",
       "      <td>51</td>\n",
       "    </tr>\n",
       "  </tbody>\n",
       "</table>\n",
       "</div>"
      ],
      "text/plain": [
       "   item_sk_1  item_sk_2  cnt\n",
       "7      49885      77827   57\n",
       "2      25003      75205   54\n",
       "1      17035      94801   52\n",
       "8      57751      80629   52\n",
       "0       8575      63991   51\n",
       "3      30337      77719   51\n",
       "4      34351      63991   51\n",
       "5      42751      61627   51\n",
       "6      47911      93625   51"
      ]
     },
     "execution_count": 18,
     "metadata": {},
     "output_type": "execute_result"
    }
   ],
   "source": [
    "grouped_df"
   ]
  },
  {
   "cell_type": "code",
   "execution_count": 19,
   "metadata": {},
   "outputs": [],
   "source": [
    "grouped_df = grouped_df.reset_index(drop=True)\n",
    "grouped_df = grouped_df.head(q01_limit)"
   ]
  },
  {
   "cell_type": "code",
   "execution_count": 20,
   "metadata": {},
   "outputs": [
    {
     "data": {
      "text/html": [
       "<div>\n",
       "<style scoped>\n",
       "    .dataframe tbody tr th:only-of-type {\n",
       "        vertical-align: middle;\n",
       "    }\n",
       "\n",
       "    .dataframe tbody tr th {\n",
       "        vertical-align: top;\n",
       "    }\n",
       "\n",
       "    .dataframe thead th {\n",
       "        text-align: right;\n",
       "    }\n",
       "</style>\n",
       "<table border=\"1\" class=\"dataframe\">\n",
       "  <thead>\n",
       "    <tr style=\"text-align: right;\">\n",
       "      <th></th>\n",
       "      <th>item_sk_1</th>\n",
       "      <th>item_sk_2</th>\n",
       "      <th>cnt</th>\n",
       "    </tr>\n",
       "  </thead>\n",
       "  <tbody>\n",
       "    <tr>\n",
       "      <th>0</th>\n",
       "      <td>49885</td>\n",
       "      <td>77827</td>\n",
       "      <td>57</td>\n",
       "    </tr>\n",
       "    <tr>\n",
       "      <th>1</th>\n",
       "      <td>25003</td>\n",
       "      <td>75205</td>\n",
       "      <td>54</td>\n",
       "    </tr>\n",
       "    <tr>\n",
       "      <th>2</th>\n",
       "      <td>17035</td>\n",
       "      <td>94801</td>\n",
       "      <td>52</td>\n",
       "    </tr>\n",
       "    <tr>\n",
       "      <th>3</th>\n",
       "      <td>57751</td>\n",
       "      <td>80629</td>\n",
       "      <td>52</td>\n",
       "    </tr>\n",
       "    <tr>\n",
       "      <th>4</th>\n",
       "      <td>8575</td>\n",
       "      <td>63991</td>\n",
       "      <td>51</td>\n",
       "    </tr>\n",
       "    <tr>\n",
       "      <th>5</th>\n",
       "      <td>30337</td>\n",
       "      <td>77719</td>\n",
       "      <td>51</td>\n",
       "    </tr>\n",
       "    <tr>\n",
       "      <th>6</th>\n",
       "      <td>34351</td>\n",
       "      <td>63991</td>\n",
       "      <td>51</td>\n",
       "    </tr>\n",
       "    <tr>\n",
       "      <th>7</th>\n",
       "      <td>42751</td>\n",
       "      <td>61627</td>\n",
       "      <td>51</td>\n",
       "    </tr>\n",
       "    <tr>\n",
       "      <th>8</th>\n",
       "      <td>47911</td>\n",
       "      <td>93625</td>\n",
       "      <td>51</td>\n",
       "    </tr>\n",
       "  </tbody>\n",
       "</table>\n",
       "</div>"
      ],
      "text/plain": [
       "   item_sk_1  item_sk_2  cnt\n",
       "0      49885      77827   57\n",
       "1      25003      75205   54\n",
       "2      17035      94801   52\n",
       "3      57751      80629   52\n",
       "4       8575      63991   51\n",
       "5      30337      77719   51\n",
       "6      34351      63991   51\n",
       "7      42751      61627   51\n",
       "8      47911      93625   51"
      ]
     },
     "execution_count": 20,
     "metadata": {},
     "output_type": "execute_result"
    }
   ],
   "source": [
    "grouped_df"
   ]
  },
  {
   "cell_type": "markdown",
   "metadata": {},
   "source": [
    "## Time the full query"
   ]
  },
  {
   "cell_type": "code",
   "execution_count": 1,
   "metadata": {},
   "outputs": [],
   "source": [
    "def get_pairs(\n",
    "    df,\n",
    "    col_name=\"ss_item_sk\",\n",
    "    merge_col=\"ss_ticket_number\",\n",
    "    pair_col=\"ss_item_sk\",\n",
    "    output_col_1=\"item_sk_1\",\n",
    "    output_col_2=\"item_sk_2\",\n",
    "):\n",
    "    pair_df = df.merge(df, on=merge_col, suffixes=[\"_t1\", \"_t2\"])\n",
    "    pair_df = pair_df[[f\"{pair_col}_t1\", f\"{pair_col}_t2\"]]\n",
    "    pair_df = pair_df[\n",
    "        pair_df[f\"{pair_col}_t1\"] < pair_df[f\"{pair_col}_t2\"]\n",
    "    ].reset_index(drop=True)\n",
    "    pair_df = pair_df.rename(\n",
    "        columns={f\"{pair_col}_t1\": output_col_1, f\"{pair_col}_t2\": output_col_2}\n",
    "    )\n",
    "    return pair_df\n"
   ]
  },
  {
   "cell_type": "code",
   "execution_count": 2,
   "metadata": {},
   "outputs": [],
   "source": [
    "q01_i_category_id_IN = [1, 2, 3]\n",
    "# -- sf1 -> 11 stores, 90k sales in 820k lines\n",
    "q01_ss_store_sk_IN = [10, 20, 33, 40, 50]\n",
    "q01_viewed_together_count = 50\n",
    "q01_limit = 100\n",
    "\n",
    "item_cols = [\"i_item_sk\", \"i_category_id\"]\n",
    "ss_cols = [\"ss_item_sk\", \"ss_store_sk\", \"ss_ticket_number\"]"
   ]
  },
  {
   "cell_type": "code",
   "execution_count": 3,
   "metadata": {},
   "outputs": [],
   "source": [
    "pd.options.mode.data_manager = \"block\""
   ]
  },
  {
   "cell_type": "code",
   "execution_count": 4,
   "metadata": {},
   "outputs": [],
   "source": [
    "item_df = pd.read_feather(\"data/scale-10/item.feather\", columns=item_cols)._as_manager(\"block\").copy()\n",
    "ss_df = pd.read_feather(\"data/scale-10/store_sales.feather\", columns=ss_cols)._as_manager(\"block\").copy()"
   ]
  },
  {
   "cell_type": "code",
   "execution_count": 5,
   "metadata": {},
   "outputs": [
    {
     "name": "stdout",
     "output_type": "stream",
     "text": [
      "646 ms ± 25.4 ms per loop (mean ± std. dev. of 7 runs, 1 loop each)\n"
     ]
    }
   ],
   "source": [
    "%%timeit\n",
    "f_ss_df = ss_df.loc[ss_df[\"ss_store_sk\"].isin(q01_ss_store_sk_IN)][\n",
    "    [\"ss_item_sk\", \"ss_ticket_number\"]\n",
    "].reset_index(drop=True)\n",
    "\n",
    "f_item_df = item_df.loc[item_df[\"i_category_id\"].isin(q01_i_category_id_IN)][\n",
    "    [\"i_item_sk\"]\n",
    "].reset_index(drop=True)\n",
    "\n",
    "ss_item_join = f_item_df.merge(\n",
    "    f_ss_df, left_on=[\"i_item_sk\"], right_on=[\"ss_item_sk\"]\n",
    ")\n",
    "ss_item_join = ss_item_join[[\"ss_item_sk\", \"ss_ticket_number\"]]\n",
    "\n",
    "ss_item_join = ss_item_join.drop_duplicates()\n",
    "\n",
    "### do pair inner join\n",
    "pair_df = get_pairs(ss_item_join)\n",
    "\n",
    "grouped_df = (\n",
    "    pair_df.groupby([\"item_sk_1\", \"item_sk_2\"])\n",
    "    .size()\n",
    "    .reset_index()\n",
    "    .rename(columns={0: \"cnt\"})\n",
    ")\n",
    "grouped_df = grouped_df[grouped_df[\"cnt\"] > q01_viewed_together_count].reset_index(\n",
    "    drop=True\n",
    ")\n",
    "\n",
    "grouped_df = grouped_df.sort_values(\n",
    "    by=[\"cnt\", \"item_sk_1\", \"item_sk_2\"], ascending=[False, True, True]\n",
    ")\n",
    "grouped_df = grouped_df.reset_index(drop=True)\n",
    "grouped_df = grouped_df.head(q01_limit)"
   ]
  },
  {
   "cell_type": "code",
   "execution_count": 6,
   "metadata": {},
   "outputs": [],
   "source": [
    "pd.options.mode.data_manager = \"array\""
   ]
  },
  {
   "cell_type": "code",
   "execution_count": 7,
   "metadata": {},
   "outputs": [],
   "source": [
    "item_df = pd.read_feather(\"data/scale-10/item.feather\", columns=item_cols)._as_manager(\"array\").copy()\n",
    "ss_df = pd.read_feather(\"data/scale-10/store_sales.feather\", columns=ss_cols)._as_manager(\"array\").copy()"
   ]
  },
  {
   "cell_type": "code",
   "execution_count": 8,
   "metadata": {},
   "outputs": [
    {
     "name": "stdout",
     "output_type": "stream",
     "text": [
      "634 ms ± 40.5 ms per loop (mean ± std. dev. of 7 runs, 1 loop each)\n"
     ]
    }
   ],
   "source": [
    "%%timeit\n",
    "f_ss_df = ss_df.loc[ss_df[\"ss_store_sk\"].isin(q01_ss_store_sk_IN)][\n",
    "    [\"ss_item_sk\", \"ss_ticket_number\"]\n",
    "].reset_index(drop=True)\n",
    "\n",
    "f_item_df = item_df.loc[item_df[\"i_category_id\"].isin(q01_i_category_id_IN)][\n",
    "    [\"i_item_sk\"]\n",
    "].reset_index(drop=True)\n",
    "\n",
    "ss_item_join = f_item_df.merge(\n",
    "    f_ss_df, left_on=[\"i_item_sk\"], right_on=[\"ss_item_sk\"]\n",
    ")\n",
    "ss_item_join = ss_item_join[[\"ss_item_sk\", \"ss_ticket_number\"]]\n",
    "\n",
    "ss_item_join = ss_item_join.drop_duplicates()\n",
    "\n",
    "### do pair inner join\n",
    "pair_df = get_pairs(ss_item_join)\n",
    "\n",
    "grouped_df = (\n",
    "    pair_df.groupby([\"item_sk_1\", \"item_sk_2\"])\n",
    "    .size()\n",
    "    .reset_index()\n",
    "    .rename(columns={0: \"cnt\"})\n",
    ")\n",
    "grouped_df = grouped_df[grouped_df[\"cnt\"] > q01_viewed_together_count].reset_index(\n",
    "    drop=True\n",
    ")\n",
    "\n",
    "grouped_df = grouped_df.sort_values(\n",
    "    by=[\"cnt\", \"item_sk_1\", \"item_sk_2\"], ascending=[False, True, True]\n",
    ")\n",
    "grouped_df = grouped_df.reset_index(drop=True)\n",
    "grouped_df = grouped_df.head(q01_limit)"
   ]
  },
  {
   "cell_type": "code",
   "execution_count": null,
   "metadata": {},
   "outputs": [],
   "source": []
  }
 ],
 "metadata": {
  "kernelspec": {
   "display_name": "Python (dev)",
   "language": "python",
   "name": "dev"
  },
  "language_info": {
   "codemirror_mode": {
    "name": "ipython",
    "version": 3
   },
   "file_extension": ".py",
   "mimetype": "text/x-python",
   "name": "python",
   "nbconvert_exporter": "python",
   "pygments_lexer": "ipython3",
   "version": "3.9.6"
  }
 },
 "nbformat": 4,
 "nbformat_minor": 4
}
